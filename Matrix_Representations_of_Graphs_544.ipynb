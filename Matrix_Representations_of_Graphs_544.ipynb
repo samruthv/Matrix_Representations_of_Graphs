{
 "cells": [
  {
   "cell_type": "markdown",
   "metadata": {},
   "source": [
    "# Programming Assignment - 10\n",
    "---\n",
    "## Name: Samruth Vennapusala\n",
    "---"
   ]
  },
  {
   "cell_type": "code",
   "execution_count": 7,
   "metadata": {},
   "outputs": [],
   "source": [
    "# Import required packages\n",
    "import numpy as np\n",
    "import matplotlib.pyplot as plt\n",
    "import scipy.sparse as sc\n",
    "\n",
    "\n",
    "from sklearn.feature_extraction.text import CountVectorizer,ENGLISH_STOP_WORDS\n",
    "\n",
    "import time\n",
    "\n",
    "np.random.seed(100)\n",
    "%matplotlib inline"
   ]
  },
  {
   "attachments": {
    "buckydem_02.png": {
     "image/png": "[encoded data removed]"
    }
   },
   "cell_type": "markdown",
   "metadata": {},
   "source": [
    "## Question 1\n",
    "---\n",
    "Create the sparse COO representation ( [ref](https://docs.scipy.org/doc/scipy/reference/generated/scipy.sparse.coo_matrix.html#scipy.sparse.coo_matrix)) of the adjacency matrix (no need to find the dense representation) of the following graph. Find its CSR representation using appropriate Python function. Visualize this matrix by using spy() function. Refer to the notebook of Lecture 10 live session. \n",
    "\n",
    "![buckydem_02.png](attachment:buckydem_02.png)\n",
    "\n",
    "[Image source: Mathworks](https://in.mathworks.com/help/examples/matlab/win64/buckydem_02.png)"
   ]
  },
  {
   "cell_type": "code",
   "execution_count": 20,
   "metadata": {},
   "outputs": [],
   "source": [
    "coordinates = {\n",
    "    1: [2, 5, 6],\n",
    "    2: [3, 11, 1],\n",
    "    3: [4, 16, 2],\n",
    "    4: [5, 21, 3],\n",
    "    5: [26, 1, 4],\n",
    "    6: [7, 10, 1],\n",
    "    7: [8, 30, 6],\n",
    "    8: [9, 42, 7],\n",
    "    9: [10, 38, 8],\n",
    "    10: [12, 6, 9],\n",
    "    11: [12, 15, 2],\n",
    "    12: [13, 10, 11],\n",
    "    13: [14, 37, 12],\n",
    "    14: [15, 33, 13],\n",
    "    15: [17, 11, 14],\n",
    "    16: [17, 20, 3],\n",
    "    17: [18, 15, 16],\n",
    "    18: [19, 32, 17],\n",
    "    19: [20, 53, 18],\n",
    "    20: [22, 16, 19],\n",
    "    21: [22, 25, 4],\n",
    "    22: [23, 20, 21],\n",
    "    23: [24, 52, 22],\n",
    "    24: [25, 48, 23],\n",
    "    25: [27, 21, 24],\n",
    "    26: [27, 30, 5],\n",
    "    27: [28, 25, 26],\n",
    "    28: [29, 47, 27],\n",
    "    29: [30, 43, 28],\n",
    "    30: [7, 26, 29],\n",
    "    31: [32, 35, 54],\n",
    "    32: [33, 18, 31],\n",
    "    33: [34, 14, 32],\n",
    "    34: [35, 36, 33],\n",
    "    35: [56, 31, 34],\n",
    "    36: [37, 40, 34],\n",
    "    37: [38, 13, 36],\n",
    "    38: [39, 9, 37],\n",
    "    39: [40, 41, 38],\n",
    "    40: [57, 36, 39],\n",
    "    41: [42, 45, 39],\n",
    "    42: [43, 8, 41],\n",
    "    43: [44, 29, 42],\n",
    "    44: [45, 46, 43],\n",
    "    45: [58, 41, 44],\n",
    "    46: [47, 50, 44], \n",
    "    47: [48, 28, 46], \n",
    "    48: [49, 24, 47], \n",
    "    49: [50, 51, 48], \n",
    "    50: [59, 46, 49], \n",
    "    51: [52, 55, 49], \n",
    "    52: [53, 23, 51], \n",
    "    53: [54, 19, 52], \n",
    "    54: [55, 31, 53], \n",
    "    55: [60, 51, 54], \n",
    "    56: [57, 60, 35], \n",
    "    57: [58, 40, 56], \n",
    "    58: [59, 45, 57], \n",
    "    59: [60, 50, 58], \n",
    "    60: [55, 56, 59]}"
   ]
  },
  {
   "cell_type": "code",
   "execution_count": 21,
   "metadata": {},
   "outputs": [],
   "source": [
    "def fill_in_buckball_matrix(matrix_x, bucky_data):\n",
    "\n",
    "    for c1, coord_list in bucky_data.items():\n",
    "        for c2 in coord_list:\n",
    "            matrix_x[c1-1, c2-1] = 1\n",
    "    return matrix_x\n"
   ]
  },
  {
   "cell_type": "code",
   "execution_count": 28,
   "metadata": {},
   "outputs": [],
   "source": [
    "blank_matrix = sp.coo_matrix((60, 60), shape=None, dtype=None, copy=False).toarray()"
   ]
  },
  {
   "cell_type": "code",
   "execution_count": 29,
   "metadata": {},
   "outputs": [
    {
     "name": "stdout",
     "output_type": "stream",
     "text": [
      "[[0. 1. 0. ... 0. 0. 0.]\n",
      " [1. 0. 1. ... 0. 0. 0.]\n",
      " [0. 1. 0. ... 0. 0. 0.]\n",
      " ...\n",
      " [0. 0. 0. ... 0. 1. 0.]\n",
      " [0. 0. 0. ... 1. 0. 1.]\n",
      " [0. 0. 0. ... 0. 1. 0.]]\n"
     ]
    }
   ],
   "source": [
    "buck_matrix = fill_in_buckball_matrix(matrix_x= blank_matrix, bucky_data= coordinates)\n",
    "print(buck_matrix)"
   ]
  },
  {
   "cell_type": "code",
   "execution_count": 30,
   "metadata": {},
   "outputs": [
    {
     "data": {
      "text/plain": [
       "array([[0., 1., 0., ..., 0., 0., 0.],\n",
       "       [1., 0., 1., ..., 0., 0., 0.],\n",
       "       [0., 1., 0., ..., 0., 0., 0.],\n",
       "       ...,\n",
       "       [0., 0., 0., ..., 0., 1., 0.],\n",
       "       [0., 0., 0., ..., 1., 0., 1.],\n",
       "       [0., 0., 0., ..., 0., 1., 0.]])"
      ]
     },
     "execution_count": 30,
     "metadata": {},
     "output_type": "execute_result"
    }
   ],
   "source": [
    "sc_buck = sc.csr_matrix(buck_matrix)\n",
    "sc_buck.toarray()"
   ]
  },
  {
   "cell_type": "code",
   "execution_count": 31,
   "metadata": {},
   "outputs": [
    {
     "data": {
      "image/png": "[encoded data removed]",
      "text/plain": [
       "<Figure size 432x288 with 1 Axes>"
      ]
     },
     "metadata": {
      "needs_background": "light"
     },
     "output_type": "display_data"
    }
   ],
   "source": [
    "plt.spy(buck_ball_matrix, marker='s', markersize=4)\n",
    "plt.show()"
   ]
  },
  {
   "cell_type": "markdown",
   "metadata": {},
   "source": [
    "## Question 2\n",
    "---\n",
    ">- Write a Python function that returns the dominating eigenvalue-eigenvector pair of a given square matrix by using the power method. \n",
    "\n",
    ">- Create a second version of the code that does the same for a sparse matrix given in CSR format.\n",
    "\n",
    ">- Generate a random sparse matrix $A$ of uniformly distributed random numbers between -1 and 1 of order $100 \\times 100$ which is around 95% sparse.\n",
    "\n",
    ">- Call these two functions and compare the time it takes to calculate the dominating eigen-pair of $A$. Report your observation."
   ]
  },
  {
   "cell_type": "code",
   "execution_count": 287,
   "metadata": {},
   "outputs": [],
   "source": [
    "def power_meth(A, iterrations):\n",
    "    v1 = np.random.rand(A.shape[1])\n",
    "\n",
    "    for k in range(iterrations):\n",
    "        v2 = A.dot(v1)\n",
    "\n",
    "        # Need to normalize\n",
    "        v2 = v2 / np.linalg.norm(v2)\n",
    "        v1 = v2\n",
    "        \n",
    "    evalue = np.dot(v2,A.dot(v2))/np.linalg.norm(v2)\n",
    "    return v2, evalue"
   ]
  },
  {
   "cell_type": "code",
   "execution_count": 288,
   "metadata": {},
   "outputs": [],
   "source": [
    "def power_meth_sparse(A, iterrations):\n",
    "    v1 = np.random.rand(A.shape[1])\n",
    "\n",
    "    for k in range(iterrations):\n",
    "        v2 = A.dot(v1)\n",
    "\n",
    "        # Need to normalize\n",
    "        v2 = v2 / np.linalg.norm(v2)\n",
    "        v1 = v2\n",
    "        \n",
    "    evalue = np.dot(v2,A.dot(v2))/np.linalg.norm(v2)\n",
    "    return v2, evalue"
   ]
  },
  {
   "cell_type": "code",
   "execution_count": 289,
   "metadata": {},
   "outputs": [],
   "source": [
    "iteration = 5000\n",
    "sparse = 0.95\n",
    "density = round(1-sparse, 2)\n",
    "csr = sp.random(100, 100, density, format='csr', \n",
    "              data_rvs=lambda s: np.random.uniform(-1.0, 1.0, size=s))\n",
    "array = W_csr.A\n"
   ]
  },
  {
   "cell_type": "code",
   "execution_count": 290,
   "metadata": {},
   "outputs": [],
   "source": [
    "start = time.time()\n",
    "dense_eigen_vector,dense_eigen_value = power_meth_sparse(csr, iteration)\n",
    "dense_time = time.time() - start\n",
    "\n",
    "start = time.time()\n",
    "sparse_eigen_vector,sparse_eigen_value = power_meth(array, iteration)\n",
    "sparse_time = time.time() - start"
   ]
  },
  {
   "cell_type": "code",
   "execution_count": 291,
   "metadata": {},
   "outputs": [
    {
     "name": "stdout",
     "output_type": "stream",
     "text": [
      "dense_eigen_value: 1.3792624263018185\n",
      "dense_eigen_vector:[ 0.13504104  0.04145595 -0.01641404  0.09244922 -0.00299527  0.00820778\n",
      "  0.1401058   0.08985557  0.03860126 -0.02602905  0.0454456  -0.23351624\n",
      "  0.15493739 -0.09935334 -0.13317709  0.12814467 -0.00388876 -0.15526594\n",
      " -0.12977889  0.11287961 -0.08224197 -0.04435578  0.14965455  0.12596603\n",
      "  0.09767941 -0.07325289  0.00682224 -0.16114569 -0.2191942   0.02846697\n",
      " -0.00230534 -0.10658104  0.13354165 -0.15436802  0.06151394  0.03417371\n",
      " -0.05731083 -0.15496359  0.00839047 -0.02834383  0.01465294  0.01771011\n",
      "  0.08998964 -0.11018251  0.08632148  0.21047867  0.12037337 -0.0728229\n",
      "  0.01071733  0.03909289  0.09756689  0.03504001 -0.02749104 -0.02660824\n",
      "  0.14718375  0.03486861 -0.02529604  0.06666234 -0.00689991 -0.13567285\n",
      "  0.07298863 -0.06676944  0.03863852  0.00136134  0.09356015 -0.22145349\n",
      " -0.07840933  0.09742525  0.02678745 -0.10900478  0.01138261 -0.00786998\n",
      "  0.08408753  0.01562364 -0.15908252  0.15595926 -0.03312383  0.17112202\n",
      " -0.16971701 -0.10555348  0.00732668 -0.21930201 -0.08841312  0.0923421\n",
      "  0.00494591  0.01021433  0.07535514  0.07085562  0.1505597  -0.12262203\n",
      "  0.10278865 -0.01715533  0.1108496   0.00965409  0.10185294 -0.0082089\n",
      " -0.01140644  0.0933611   0.0240551  -0.08080788]\n",
      "sparse_eigen_value:1.1299946864003831\n",
      "sparse_eigen_vector:[-0.05423303 -0.05877116  0.05849584  0.08994078 -0.03630941  0.01777914\n",
      "  0.00186197 -0.05666933 -0.00115335 -0.14030297  0.03662779 -0.00262913\n",
      " -0.09105332 -0.10606051 -0.03969802 -0.0420277  -0.07620209  0.00889014\n",
      " -0.08762248 -0.06507795  0.21072788  0.09534244  0.03001847 -0.01372434\n",
      " -0.24137718  0.04235257  0.13797292  0.00681478  0.00181862  0.11841502\n",
      "  0.05325789  0.14101402 -0.00379198 -0.07568514  0.06409302  0.09174631\n",
      " -0.06915982 -0.08426026  0.0810693  -0.23057838 -0.08665956  0.07335349\n",
      "  0.03684636  0.02754536  0.11366917 -0.30153566 -0.04267974 -0.00695191\n",
      " -0.11396556 -0.00540614 -0.01727544  0.00503639 -0.0107957   0.12493852\n",
      " -0.01763376 -0.00671316 -0.10500521  0.1817197  -0.08259674 -0.08139283\n",
      " -0.11746974 -0.03629502  0.03225988  0.08343559 -0.06414499 -0.19088917\n",
      "  0.08838333  0.03698826 -0.03262372  0.059014    0.03630425  0.02160277\n",
      "  0.06661414  0.12569775  0.08852947  0.03556554  0.00481874 -0.00486003\n",
      "  0.07116613 -0.05145559  0.24098024  0.03170611 -0.04748126  0.10859317\n",
      "  0.10503999 -0.21597031 -0.04571941  0.04817294 -0.05460172 -0.01603379\n",
      "  0.01007715 -0.10644046  0.0965201  -0.01873309 -0.02041665 -0.35776728\n",
      " -0.06561464  0.06984424 -0.02997717 -0.18221171]\n"
     ]
    }
   ],
   "source": [
    "print ('dense_eigen_value: {}'.format(dense_eigen_value))\n",
    "print ('dense_eigen_vector:{}'.format(dense_eigen_vector))\n",
    "print ('sparse_eigen_value:{}'.format(sparse_eigen_value))\n",
    "print ('sparse_eigen_vector:{}'.format(sparse_eigen_vector))"
   ]
  },
  {
   "cell_type": "code",
   "execution_count": 293,
   "metadata": {},
   "outputs": [
    {
     "name": "stdout",
     "output_type": "stream",
     "text": [
      "Time for Dense Power Method: 0.048891544342041016\n",
      "Time for Sparse Power Method:0.03687787055969238\n",
      "Difference: -0.012013673782348633\n"
     ]
    }
   ],
   "source": [
    "print ('Time for Dense Power Method: {}'.format(dense_time ))\n",
    "print ('Time for Sparse Power Method:{}'.format(sparse_time))\n",
    "print('Difference: {}'.format(sparse_time-dense_time))"
   ]
  },
  {
   "cell_type": "markdown",
   "metadata": {},
   "source": [
    "## We can tell from this that the sparse function is actually faster due to the fact that we are inputing a sparse matrix instead of the deanse matrix. We only inpoutted 5000 interations to finsd the eigen value but we can assume that the time difference will onle increase as we increase iterations."
   ]
  }
 ],
 "metadata": {
  "kernelspec": {
   "display_name": "Python 3",
   "language": "python",
   "name": "python3"
  },
  "language_info": {
   "codemirror_mode": {
    "name": "ipython",
    "version": 3
   },
   "file_extension": ".py",
   "mimetype": "text/x-python",
   "name": "python",
   "nbconvert_exporter": "python",
   "pygments_lexer": "ipython3",
   "version": "3.7.6"
  }
 },
 "nbformat": 4,
 "nbformat_minor": 4
}
